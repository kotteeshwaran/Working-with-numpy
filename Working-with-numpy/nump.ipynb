{
 "cells": [
  {
   "cell_type": "code",
   "execution_count": 1,
   "metadata": {
    "tags": []
   },
   "outputs": [
    {
     "output_type": "stream",
     "name": "stdout",
     "text": "[3 3 3]\n"
    }
   ],
   "source": [
    "import numpy as np\n",
    "import j\n",
    "arra = np.array([3,3,3])\n",
    "print(arra)"
   ]
  },
  {
   "cell_type": "code",
   "execution_count": 2,
   "metadata": {
    "tags": []
   },
   "outputs": [
    {
     "output_type": "stream",
     "name": "stdout",
     "text": "[[[6.23042070e-307 4.67296746e-307 1.69121096e-306]\n  [1.29061074e-306 1.89146896e-307 7.56571288e-307]\n  [3.11525958e-307 1.24610723e-306 1.37962320e-306]]\n\n [[1.29060871e-306 2.22518251e-306 1.33511969e-306]\n  [1.78022342e-306 1.05700345e-307 1.11261027e-306]\n  [1.11261502e-306 1.42410839e-306 7.56597770e-307]]\n\n [[6.23059726e-307 1.42419530e-306 1.37962185e-306]\n  [1.37962049e-306 1.24610723e-306 1.60219035e-306]\n  [9.34609790e-307 1.42410974e-306 1.63354242e-301]]]\n"
    }
   ],
   "source": [
    "arra2 = np.ndarray([3,3,3])\n",
    "print(arra2)"
   ]
  },
  {
   "cell_type": "markdown",
   "metadata": {},
   "source": [
    "2D array"
   ]
  },
  {
   "cell_type": "code",
   "execution_count": 3,
   "metadata": {
    "tags": []
   },
   "outputs": [
    {
     "output_type": "stream",
     "name": "stdout",
     "text": "[list([9, 10, 11, 12]) list([[1, 2, 3, 4], [5, 6, 7, 8]])]\n"
    }
   ],
   "source": [
    "arra_2 = np.array([[9,10,11,12],[[1,2,3,4],[5,6,7,8]]])\n",
    "print(arra_2)"
   ]
  },
  {
   "cell_type": "code",
   "execution_count": 4,
   "metadata": {
    "tags": []
   },
   "outputs": [
    {
     "output_type": "stream",
     "name": "stdout",
     "text": "[[0. 0.]\n [0. 0.]]\n"
    }
   ],
   "source": [
    "ex = np.zeros((2,2))\n",
    "print(ex)"
   ]
  },
  {
   "cell_type": "code",
   "execution_count": 5,
   "metadata": {
    "tags": []
   },
   "outputs": [
    {
     "output_type": "stream",
     "name": "stdout",
     "text": "[[10 10]\n [10 10]]\n"
    }
   ],
   "source": [
    "ex = np.full((2,2),10)\n",
    "print(ex)"
   ]
  },
  {
   "cell_type": "code",
   "execution_count": 6,
   "metadata": {
    "tags": []
   },
   "outputs": [
    {
     "output_type": "stream",
     "name": "stdout",
     "text": "[[1. 0.]\n [0. 1.]]\n"
    }
   ],
   "source": [
    "ex = np.eye(2,2)\n",
    "print(ex)"
   ]
  },
  {
   "cell_type": "code",
   "execution_count": 7,
   "metadata": {
    "tags": []
   },
   "outputs": [
    {
     "output_type": "stream",
     "name": "stdout",
     "text": "[[1. 1.]\n [1. 1.]]\n"
    }
   ],
   "source": [
    "ex =np.ones((2,2))\n",
    "print(ex)"
   ]
  },
  {
   "cell_type": "code",
   "execution_count": 8,
   "metadata": {
    "tags": []
   },
   "outputs": [
    {
     "output_type": "stream",
     "name": "stdout",
     "text": "(2, 2)\n\n1.0\n"
    }
   ],
   "source": [
    "print(ex.shape)\n",
    "print()\n",
    "print(ex[0,1])"
   ]
  },
  {
   "cell_type": "markdown",
   "metadata": {},
   "source": [
    "# slicing of numpy array"
   ]
  },
  {
   "cell_type": "code",
   "execution_count": 9,
   "metadata": {
    "tags": []
   },
   "outputs": [
    {
     "output_type": "stream",
     "name": "stdout",
     "text": "[]\n"
    }
   ],
   "source": [
    "new = np.array([[[1,2,3,4],[5,6,7,8],[9,10,11,12]]])\n",
    "view = new[2:,:3,:3]\n",
    "print(view)"
   ]
  },
  {
   "cell_type": "code",
   "execution_count": 10,
   "metadata": {
    "tags": []
   },
   "outputs": [
    {
     "output_type": "stream",
     "name": "stdout",
     "text": "[1 2 3]\n"
    }
   ],
   "source": [
    "new1 = np.array([[1,2,3],[4,5,6],[7,8,9]])\n",
    "print(new1[0])"
   ]
  },
  {
   "cell_type": "code",
   "execution_count": 11,
   "metadata": {
    "tags": []
   },
   "outputs": [
    {
     "output_type": "stream",
     "name": "stdout",
     "text": "[[1 2 3]\n [4 5 6]\n [7 8 9]]\n"
    }
   ],
   "source": [
    "print(new1)"
   ]
  },
  {
   "cell_type": "code",
   "execution_count": 12,
   "metadata": {
    "tags": []
   },
   "outputs": [
    {
     "output_type": "stream",
     "name": "stdout",
     "text": "[[1 2 3]\n [4 5 6]\n [7 8 9]]\n"
    }
   ],
   "source": [
    "a_slice = np.array(new1)\n",
    "print(a_slice)"
   ]
  },
  {
   "cell_type": "code",
   "execution_count": 13,
   "metadata": {
    "tags": []
   },
   "outputs": [
    {
     "output_type": "stream",
     "name": "stdout",
     "text": "[1 4 7]\n[[1]\n [4]\n [7]]\n"
    }
   ],
   "source": [
    "col1 = a_slice[:,0]\n",
    "print(col1)\n",
    "col2 = a_slice [:,:1]\n",
    "print(col2)\n"
   ]
  },
  {
   "cell_type": "code",
   "execution_count": 14,
   "metadata": {
    "tags": []
   },
   "outputs": [
    {
     "output_type": "stream",
     "name": "stdout",
     "text": "[[ 1]\n [10]\n [ 7]]\n"
    }
   ],
   "source": [
    "col2[1]=10\n",
    "print(col2)"
   ]
  },
  {
   "cell_type": "code",
   "execution_count": 15,
   "metadata": {
    "tags": []
   },
   "outputs": [
    {
     "output_type": "stream",
     "name": "stdout",
     "text": "[[ 1  2  3]\n [10  5  6]\n [ 7  8  9]]\n"
    }
   ],
   "source": [
    "print(a_slice)"
   ]
  },
  {
   "cell_type": "code",
   "execution_count": 16,
   "metadata": {
    "tags": []
   },
   "outputs": [
    {
     "output_type": "stream",
     "name": "stdout",
     "text": "[[1 2 3]\n [4 5 6]\n [7 8 9]]\n"
    }
   ],
   "source": [
    "col2[1] = 4\n",
    "print(a_slice)"
   ]
  },
  {
   "cell_type": "code",
   "execution_count": 17,
   "metadata": {
    "tags": []
   },
   "outputs": [
    {
     "output_type": "stream",
     "name": "stdout",
     "text": "[[7]]\n\n[[1]\n [4]]\n"
    }
   ],
   "source": [
    "col3 = a_slice[2:,:1]\n",
    "print(col3)\n",
    "print()\n",
    "col3 = a_slice[:2, :1]\n",
    "print(col3)"
   ]
  },
  {
   "cell_type": "code",
   "execution_count": 18,
   "metadata": {
    "tags": []
   },
   "outputs": [
    {
     "output_type": "stream",
     "name": "stdout",
     "text": "[[ 1  2  3 15]\n [ 5  6  7 16]\n [ 9 10 11 17]\n [12 13 14 18]]\n"
    }
   ],
   "source": [
    "an_array = np.array([[1,2,3,15],[5,6,7,16],[9,10,11,17],[12,13,14,18]])\n",
    "print(an_array)"
   ]
  },
  {
   "cell_type": "code",
   "execution_count": 19,
   "metadata": {
    "tags": []
   },
   "outputs": [
    {
     "output_type": "stream",
     "name": "stdout",
     "text": "[0 1 2 3]\n[0 1 2 3]\n"
    }
   ],
   "source": [
    "row = np.arange(4)\n",
    "col = np.array([0,1,2,3])\n",
    "\n",
    "print(row)\n",
    "print(col)"
   ]
  },
  {
   "cell_type": "code",
   "execution_count": 20,
   "metadata": {
    "tags": []
   },
   "outputs": [
    {
     "output_type": "stream",
     "name": "stdout",
     "text": "0 , 0\n1 , 1\n2 , 2\n3 , 3\n"
    }
   ],
   "source": [
    "for row1,col1 in zip(row,col):\n",
    "    print(row1,\",\" ,col1)"
   ]
  },
  {
   "cell_type": "code",
   "execution_count": 21,
   "metadata": {
    "tags": []
   },
   "outputs": [
    {
     "output_type": "stream",
     "name": "stdout",
     "text": "[ 1  6 11 18]\n"
    }
   ],
   "source": [
    "print(an_array[row,col])"
   ]
  },
  {
   "cell_type": "markdown",
   "metadata": {},
   "source": [
    "# useful for datacleaning"
   ]
  },
  {
   "cell_type": "code",
   "execution_count": 22,
   "metadata": {
    "tags": []
   },
   "outputs": [
    {
     "output_type": "stream",
     "name": "stdout",
     "text": "[[100001      2      3     15]\n [     5 100006      7     16]\n [     9     10 100011     17]\n [    12     13     14 100018]]\n"
    }
   ],
   "source": [
    "an_array[row,col] +=100000\n",
    "print(an_array)"
   ]
  },
  {
   "cell_type": "markdown",
   "metadata": {},
   "source": [
    "# boolean array"
   ]
  },
  {
   "cell_type": "code",
   "execution_count": 23,
   "metadata": {
    "tags": []
   },
   "outputs": [
    {
     "output_type": "execute_result",
     "data": {
      "text/plain": "array([[1, 2, 3],\n       [4, 5, 6],\n       [7, 8, 9]])"
     },
     "metadata": {},
     "execution_count": 23
    }
   ],
   "source": [
    "an_array=np.array(([1,2,3],[4,5,6],[7,8,9]))\n",
    "an_array\n"
   ]
  },
  {
   "cell_type": "code",
   "execution_count": 24,
   "metadata": {
    "tags": []
   },
   "outputs": [
    {
     "output_type": "stream",
     "name": "stdout",
     "text": "[[False False False]\n [False  True  True]\n [ True  True  True]]\n"
    }
   ],
   "source": [
    "filter = (an_array>4)\n",
    "print(filter)"
   ]
  },
  {
   "cell_type": "code",
   "execution_count": 25,
   "metadata": {
    "tags": []
   },
   "outputs": [
    {
     "output_type": "stream",
     "name": "stdout",
     "text": "[5 6 7 8 9]\n"
    }
   ],
   "source": [
    "print(an_array[filter])"
   ]
  },
  {
   "cell_type": "code",
   "execution_count": 26,
   "metadata": {
    "tags": []
   },
   "outputs": [
    {
     "output_type": "stream",
     "name": "stdout",
     "text": "[[101   2 103]\n [  4 105   6]\n [107   8 109]]\n"
    }
   ],
   "source": [
    "an_array[an_array %2 !=0] +=100\n",
    "print(an_array)"
   ]
  },
  {
   "cell_type": "markdown",
   "metadata": {},
   "source": [
    "# Definig Data Type"
   ]
  },
  {
   "cell_type": "code",
   "execution_count": 27,
   "metadata": {
    "tags": []
   },
   "outputs": [
    {
     "output_type": "stream",
     "name": "stdout",
     "text": "int32\n"
    }
   ],
   "source": [
    "ex1 = np.array([11,22,33])\n",
    "print(ex1.dtype)"
   ]
  },
  {
   "cell_type": "code",
   "execution_count": 28,
   "metadata": {
    "tags": []
   },
   "outputs": [
    {
     "output_type": "stream",
     "name": "stdout",
     "text": "[11 22]\n"
    }
   ],
   "source": [
    "ex2 = np.array([11.3,22.5],dtype=int)\n",
    "print(ex2)"
   ]
  },
  {
   "cell_type": "code",
   "execution_count": 29,
   "metadata": {
    "tags": []
   },
   "outputs": [
    {
     "output_type": "stream",
     "name": "stdout",
     "text": "[[ 1  2  3  4]\n [ 5  6  7  8]\n [ 9 10 11 12]]\n\n[[ 5.  6.  7.  8.]\n [ 1.  2.  3.  4.]\n [ 9. 10. 11. 12.]]\n"
    }
   ],
   "source": [
    "ex3 = np.array([[1,2,3,4],[5,6,7,8],[9,10,11,12]])\n",
    "ex4 = np.array([[5,6,7,8],[1,2,3,4],[9,10,11,12]],dtype=np.float)\n",
    "print(ex3)\n",
    "print()\n",
    "print(ex4)"
   ]
  },
  {
   "cell_type": "code",
   "execution_count": 30,
   "metadata": {
    "tags": []
   },
   "outputs": [
    {
     "output_type": "stream",
     "name": "stdout",
     "text": "[[ 6.  8. 10. 12.]\n [ 6.  8. 10. 12.]\n [18. 20. 22. 24.]]\n"
    }
   ],
   "source": [
    "print(np.add(ex3,ex4))"
   ]
  },
  {
   "cell_type": "code",
   "execution_count": 31,
   "metadata": {
    "tags": []
   },
   "outputs": [
    {
     "output_type": "stream",
     "name": "stdout",
     "text": "[[-4. -4. -4. -4.]\n [ 4.  4.  4.  4.]\n [ 0.  0.  0.  0.]]\n"
    }
   ],
   "source": [
    "print(np.subtract(ex3,ex4))"
   ]
  },
  {
   "cell_type": "code",
   "execution_count": 32,
   "metadata": {
    "tags": []
   },
   "outputs": [
    {
     "output_type": "stream",
     "name": "stdout",
     "text": "[[1.         1.41421356 1.73205081 2.        ]\n [2.23606798 2.44948974 2.64575131 2.82842712]\n [3.         3.16227766 3.31662479 3.46410162]]\n"
    }
   ],
   "source": [
    "print(np.sqrt(ex3))"
   ]
  },
  {
   "cell_type": "code",
   "execution_count": 33,
   "metadata": {
    "tags": []
   },
   "outputs": [
    {
     "output_type": "stream",
     "name": "stdout",
     "text": "[[1.         1.41421356 1.73205081 2.        ]\n [2.23606798 2.44948974 2.64575131 2.82842712]\n [3.         3.16227766 3.31662479 3.46410162]]\n"
    }
   ],
   "source": [
    "print(np.sqrt(ex3,ex4))"
   ]
  },
  {
   "cell_type": "code",
   "execution_count": 34,
   "metadata": {
    "tags": []
   },
   "outputs": [
    {
     "output_type": "stream",
     "name": "stdout",
     "text": "[[1.         1.18920712 1.31607401 1.41421356]\n [1.49534878 1.56508458 1.62657656 1.68179283]\n [1.73205081 1.77827941 1.82116029 1.86120972]]\n"
    }
   ],
   "source": [
    "print(np.sqrt(ex4))"
   ]
  },
  {
   "cell_type": "code",
   "execution_count": 35,
   "metadata": {
    "tags": []
   },
   "outputs": [
    {
     "output_type": "stream",
     "name": "stdout",
     "text": "[[1.         1.18920712 1.31607401 1.41421356]\n [1.49534878 1.56508458 1.62657656 1.68179283]\n [1.73205081 1.77827941 1.82116029 1.86120972]]\n"
    }
   ],
   "source": [
    "print(np.sqrt(ex4))"
   ]
  },
  {
   "cell_type": "code",
   "execution_count": 36,
   "metadata": {
    "tags": []
   },
   "outputs": [
    {
     "output_type": "stream",
     "name": "stdout",
     "text": "[6.23606798 7.02598097 7.69442691 8.29252874]\n"
    }
   ],
   "source": [
    "print(sum(ex4))"
   ]
  },
  {
   "cell_type": "code",
   "execution_count": 37,
   "metadata": {
    "tags": []
   },
   "outputs": [
    {
     "output_type": "stream",
     "name": "stdout",
     "text": "29.249004591697254\n"
    }
   ],
   "source": [
    "print(ex4.sum())"
   ]
  },
  {
   "cell_type": "code",
   "execution_count": 38,
   "metadata": {
    "tags": []
   },
   "outputs": [
    {
     "output_type": "stream",
     "name": "stdout",
     "text": "[[1 2 3]\n [4 5 6]\n [7 8 9]]\n"
    }
   ],
   "source": [
    "ex4 = np.array([[1,2,3],[4,5,6],[7,8,9]])\n",
    "print(ex4)"
   ]
  },
  {
   "cell_type": "code",
   "execution_count": 39,
   "metadata": {
    "tags": []
   },
   "outputs": [
    {
     "output_type": "stream",
     "name": "stdout",
     "text": "5.0\n\n[2. 5. 8.]\n"
    }
   ],
   "source": [
    "print(ex4.mean())\n",
    "print()\n",
    "print(ex4.mean(axis=1))"
   ]
  },
  {
   "cell_type": "code",
   "execution_count": 40,
   "metadata": {
    "tags": []
   },
   "outputs": [
    {
     "output_type": "stream",
     "name": "stdout",
     "text": "[2. 5. 8.]\n"
    }
   ],
   "source": [
    "print(np.median(ex4,axis =1))"
   ]
  },
  {
   "cell_type": "markdown",
   "metadata": {},
   "source": [
    "# broadcasting"
   ]
  },
  {
   "cell_type": "code",
   "execution_count": 41,
   "metadata": {
    "tags": []
   },
   "outputs": [
    {
     "output_type": "stream",
     "name": "stdout",
     "text": "[[1 2 3]\n [4 5 6]\n [7 8 9]]\n"
    }
   ],
   "source": [
    "p1 = np.array(([1,2,3],[4,5,6],[7,8,9]))\n",
    "print(p1)"
   ]
  },
  {
   "cell_type": "code",
   "execution_count": 42,
   "metadata": {},
   "outputs": [],
   "source": [
    "p2 = np.array([0,1,3])"
   ]
  },
  {
   "cell_type": "code",
   "execution_count": 43,
   "metadata": {
    "tags": []
   },
   "outputs": [
    {
     "output_type": "stream",
     "name": "stdout",
     "text": "[[ 1  3  6]\n [ 4  6  9]\n [ 7  9 12]]\n"
    }
   ],
   "source": [
    "y = p1+ p2\n",
    "print(y)"
   ]
  },
  {
   "cell_type": "code",
   "execution_count": 44,
   "metadata": {
    "tags": []
   },
   "outputs": [
    {
     "output_type": "stream",
     "name": "stdout",
     "text": "[[ 5  8 11]\n [ 6  9 12]\n [ 7 10 13]]\n"
    }
   ],
   "source": [
    "cols = np.array([[5,6,7],[8,9,10],[11,12,13]])\n",
    "cols = cols.T\n",
    "print(cols)"
   ]
  },
  {
   "cell_type": "code",
   "execution_count": 45,
   "metadata": {
    "tags": []
   },
   "outputs": [
    {
     "output_type": "stream",
     "name": "stdout",
     "text": "[[ 6 10 14]\n [10 14 18]\n [14 18 22]]\n"
    }
   ],
   "source": [
    "x = p1 + cols\n",
    "print(x)"
   ]
  },
  {
   "cell_type": "markdown",
   "metadata": {},
   "source": [
    "# Using Dot operation"
   ]
  },
  {
   "cell_type": "code",
   "execution_count": 49,
   "metadata": {
    "tags": []
   },
   "outputs": [
    {
     "output_type": "stream",
     "name": "stdout",
     "text": "690\n"
    }
   ],
   "source": [
    "a = np.array([[1,2,3],[4,5,6],[7,8,9]])\n",
    "b= np.array([[10,11,12],[13,14,15],[16,17,18]])\n",
    "c=np.vdot(a,b)\n",
    "print(c)"
   ]
  },
  {
   "cell_type": "code",
   "execution_count": null,
   "metadata": {},
   "outputs": [],
   "source": [
    "import j"
   ]
  }
 ],
 "metadata": {
  "language_info": {
   "codemirror_mode": {
    "name": "ipython",
    "version": 3
   },
   "file_extension": ".py",
   "mimetype": "text/x-python",
   "name": "python",
   "nbconvert_exporter": "python",
   "pygments_lexer": "ipython3",
   "version": "3.8.3-final"
  },
  "orig_nbformat": 2,
  "kernelspec": {
   "name": "python38364bit17f415c822f046b598949f935a4b1633",
   "display_name": "Python 3.8.3 64-bit"
  }
 },
 "nbformat": 4,
 "nbformat_minor": 2
}